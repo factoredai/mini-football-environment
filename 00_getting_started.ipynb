{
 "cells": [
  {
   "cell_type": "code",
   "execution_count": 1,
   "metadata": {},
   "outputs": [],
   "source": [
    "from mini_football_env import MiniFootballEnv\n",
    "from mini_football_agent import MiniFootballAgent\n",
    "\n",
    "import numpy as np\n",
    "from tqdm import tqdm"
   ]
  },
  {
   "attachments": {},
   "cell_type": "markdown",
   "metadata": {},
   "source": [
    "## Mini Football Environment - Action Space\n",
    "\n",
    "The actions space consists of 2 continuous actions and 1 discrete action.\n",
    "- [-1,1] for horizontal movement. -1 is move left and 1 move right.\n",
    "- [-1,1] for vertical movement. -1 is move backwards and 1 move forward.\n",
    "- 0: No jump, 1: jump\n",
    "\n",
    "A random action generator is shown below:"
   ]
  },
  {
   "cell_type": "code",
   "execution_count": 2,
   "metadata": {},
   "outputs": [
    {
     "data": {
      "text/plain": [
       "array([-0.80389255,  0.96575829,  0.        ])"
      ]
     },
     "execution_count": 2,
     "metadata": {},
     "output_type": "execute_result"
    }
   ],
   "source": [
    "def get_random_action():\n",
    "    continuous_actions = np.random.uniform(-1, 1, size = 2)\n",
    "    discrete_actions = np.array([np.random.randint(2)])\n",
    "    return np.concatenate((continuous_actions, discrete_actions), axis=0)\n",
    "\n",
    "# Sample Action\n",
    "get_random_action()"
   ]
  },
  {
   "attachments": {},
   "cell_type": "markdown",
   "metadata": {},
   "source": [
    "Note that a tuple as the one given in env.action_space.sample() is also valid. e.g:\n",
    "\n",
    "(array([ 0.7597769, -0.6579776], dtype=float32), 0)"
   ]
  },
  {
   "attachments": {},
   "cell_type": "markdown",
   "metadata": {},
   "source": [
    "## Load Mini Football Environment\n",
    "This will open the Unity Game. \n",
    "\n",
    "For Windows: './mini_football_windows/Mini Football Environment.exe'\n",
    "\n",
    "For Mac: './mini_football_mac/Mini Football Environment.app'"
   ]
  },
  {
   "attachments": {},
   "cell_type": "markdown",
   "metadata": {},
   "source": [
    "The following code will open the environment. If the OS is mac, you may need to run the following command:\n",
    "\n",
    "`chmod -R 777 \"Mini Football Environment.app\"`"
   ]
  },
  {
   "cell_type": "code",
   "execution_count": 3,
   "metadata": {},
   "outputs": [],
   "source": [
    "!chmod -R 777 './mini_football_mac/Mini Football Environment.app'"
   ]
  },
  {
   "cell_type": "code",
   "execution_count": 4,
   "metadata": {},
   "outputs": [],
   "source": [
    "windows_path = './mini_football_windows/Mini Football Environment.exe'\n",
    "mac_path = './mini_football_mac/Mini Football Environment.app'\n",
    "\n",
    "# Make Environment\n",
    "env = MiniFootballEnv(path=mac_path)"
   ]
  },
  {
   "cell_type": "markdown",
   "metadata": {},
   "source": [
    "## Run an Episode\n",
    "This code runs an episode using random actions"
   ]
  },
  {
   "cell_type": "code",
   "execution_count": 5,
   "metadata": {},
   "outputs": [
    {
     "name": "stdout",
     "output_type": "stream",
     "text": [
      "Episode Reward: -0.0999\n",
      "Number of Steps: 999\n"
     ]
    }
   ],
   "source": [
    "done = False\n",
    "steps = 0\n",
    "episode_reward = 0\n",
    "state = env.state\n",
    "\n",
    "while not done:\n",
    "    \n",
    "    action = env.action_space.sample()\n",
    "    state, reward, done, _, _ = env.step(action)\n",
    "    \n",
    "    # Update reward and steps\n",
    "    episode_reward += reward\n",
    "    steps += 1\n",
    "\n",
    "print(f\"Episode Reward: {episode_reward:.4f}\")\n",
    "print(f\"Number of Steps: {steps}\")"
   ]
  }
 ],
 "metadata": {
  "kernelspec": {
   "display_name": "rl-unity",
   "language": "python",
   "name": "python3"
  },
  "language_info": {
   "codemirror_mode": {
    "name": "ipython",
    "version": 3
   },
   "file_extension": ".py",
   "mimetype": "text/x-python",
   "name": "python",
   "nbconvert_exporter": "python",
   "pygments_lexer": "ipython3",
   "version": "3.9.13"
  },
  "orig_nbformat": 4,
  "vscode": {
   "interpreter": {
    "hash": "56b88cc66ce22b069d89fcd003cc6f13ce5bcd921cd27810ce44aaafd5c8bba8"
   }
  }
 },
 "nbformat": 4,
 "nbformat_minor": 2
}
